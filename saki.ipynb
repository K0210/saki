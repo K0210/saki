{
  "nbformat": 4,
  "nbformat_minor": 0,
  "metadata": {
    "colab": {
      "provenance": [],
      "authorship_tag": "ABX9TyMOgfujXIZZxAvs2Cv1/Pjr",
      "include_colab_link": true
    },
    "kernelspec": {
      "name": "python3",
      "display_name": "Python 3"
    },
    "language_info": {
      "name": "python"
    }
  },
  "cells": [
    {
      "cell_type": "markdown",
      "metadata": {
        "id": "view-in-github",
        "colab_type": "text"
      },
      "source": [
        "<a href=\"https://colab.research.google.com/github/K0210/saki/blob/main/saki.ipynb\" target=\"_parent\"><img src=\"https://colab.research.google.com/assets/colab-badge.svg\" alt=\"Open In Colab\"/></a>"
      ]
    },
    {
      "cell_type": "markdown",
      "source": [
        "# leo/needの誕生日表示プログラム"
      ],
      "metadata": {
        "id": "m31Wtdqub80H"
      }
    },
    {
      "cell_type": "markdown",
      "source": [
        "# 準備　かならず始めに実行する!"
      ],
      "metadata": {
        "id": "bEJMgtmYa5zu"
      }
    },
    {
      "cell_type": "code",
      "execution_count": null,
      "metadata": {
        "id": "1LLPRD76QzEo"
      },
      "outputs": [],
      "source": [
        "#@title 準備　かならず始めに実行する！\n",
        "import datetime\n",
        "\n",
        "class birthday(object):\n",
        "  def _birthday(month: int,day: int):\n",
        "    return datetime.date(datetime.MINYEAR+1,month,day)\n",
        "  def birthday(month: int, day: int, format: str):\n",
        "    if format == \"○月○日\":\n",
        "      return birthday._birthday(month,day).strftime('%m月%d日')\n",
        "    elif format == \"○月○日だよ！\":\n",
        "      return birthday._birthday(month,day).strftime('%m月%d日だよ！')\n",
        "    else:\n",
        "      return birthday._birthday(month,day).strftime('%m/%d')\n",
        "\n",
        "class ICHIKA(object):\n",
        "  _birthday = birthday._birthday\n",
        "  birthday = birthday.birthday\n",
        "  name = str\n",
        "  ichika = object\n",
        "  familyname = str\n",
        "  firstname = str\n",
        "  def __init__(self):\n",
        "    self._birthday = birthday._birthday(8,11)\n",
        "    self.birthday = birthday.birthday(8,11,format)\n",
        "    self.ichika = object\n",
        "    self.familyname = '星乃'\n",
        "    self.firstname = '一歌'\n",
        "    self.name = self.familyname + self.firstname\n",
        "  def ichika():\n",
        "    ICHIKA.ichika = 'ichika'\n",
        "    return ICHIKA.ichika\n",
        "  def namebirthday(self, name_format='full', format2='\\n'):\n",
        "    if name_format == 'full':\n",
        "      return print(self.name + format2 + self.birthday)\n",
        "    elif name_format == 'first':\n",
        "      return print(self.firstname + format2 + self.birthday)\n",
        "\n",
        "class SAKI(object):\n",
        "  _birthday = birthday._birthday\n",
        "  birthday = birthday.birthday\n",
        "  name = str\n",
        "  saki = object\n",
        "  familyname = str\n",
        "  firstname = str\n",
        "  older_brother = object\n",
        "  def __init__(self):\n",
        "    self._birthday = birthday._birthday(5,9)\n",
        "    self.birthday = birthday.birthday(5,9,format)\n",
        "    self.saki = object\n",
        "    self.familyname = '天馬'\n",
        "    self.firstname = '咲希'\n",
        "    self.name = self.familyname + self.firstname\n",
        "    self.older_brother = object\n",
        "  def saki():\n",
        "    SAKI.saki = 'saki'\n",
        "    return SAKI.saki\n",
        "  def older_brother():\n",
        "    SAKI.older_brother = '司'\n",
        "    return SAKI.older_brother\n",
        "  def namebirthday(self, name_format='full',format2='\\n'):\n",
        "    if name_format == 'full':\n",
        "      return print(self.name + format2 + self.birthday)\n",
        "    elif name_format == 'first':\n",
        "      return print(self.firstname + format2 + self.birthday)\n",
        "\n",
        "class HONAMI(object):\n",
        "  _birthday = birthday._birthday\n",
        "  birthday = birthday.birthday\n",
        "  name = str\n",
        "  honami = object\n",
        "  familyname = str\n",
        "  firstname = str\n",
        "  younger_brother = object\n",
        "  def __init__(self):\n",
        "    self._birthday = birthday._birthday(10,27)\n",
        "    self.birthday = birthday.birthday(10,27,format)\n",
        "    self.honami = object\n",
        "    self.familyname = '望月'\n",
        "    self.firstname = '穂波'\n",
        "    self.name = self.familyname + self.firstname\n",
        "    self.younger_brother = object\n",
        "  def honami():\n",
        "    HONAMI.honami = 'honami'\n",
        "    return HONAMI.honami\n",
        "    if name_format == 'full':\n",
        "      return print(self.name + format2 + self.birthday)\n",
        "    elif name_format == 'first':\n",
        "      return print(self.firstname + format2 + self.birthday)\n",
        "\n",
        "class SHIHO(object):\n",
        "  _birthday = birthday._birthday\n",
        "  birthday = birthday.birthday\n",
        "  name = str\n",
        "  shiho = object\n",
        "  familyname = str\n",
        "  firstname = str\n",
        "  older_sister = object\n",
        "  def __init__(self):\n",
        "    self._birthday = birthday._birthday(1,8)\n",
        "    self.birthday = birthday.birthday(1,8,format)\n",
        "    self.shiho = object\n",
        "    self.familyname = '日野森'\n",
        "    self.firstname = '志歩'\n",
        "    self.name = self.familyname + self.firstname\n",
        "    self.old_sister = object\n",
        "  def shiho():\n",
        "    SHIHO.shiho = 'shiho'\n",
        "    return SHIHO.shiho\n",
        "  def older_brother():\n",
        "    SHIHO.older_sister = '雫'\n",
        "    return SHIHO.older_sister\n",
        "    if name_format == 'full':\n",
        "      return print(self.name + format2 + self.birthday)\n",
        "    elif name_format == 'first':\n",
        "      return print(self.firstname + format2 + self.birthday)\n",
      ]
    },
    {
      "cell_type": "markdown",
      "source": [
        "# 誕生日表示設定"
      ],
      "metadata": {
        "id": "qOzq3sGraAF-"
      }
    },
    {
      "cell_type": "code",
      "source": [
        "#@title 誕生日の表示フォーマットを選ぶ\n",
        "format = \"○月○日だよ！\" #@param[\"○/○\",\"○月○日\",\"○月○日だよ！\"]"
      ],
      "metadata": {
        "id": "7atMU_XuX8P3",
        "cellView": "form"
      },
      "execution_count": null,
      "outputs": []
    },
    {
      "cell_type": "markdown",
      "source": [
        "# ここで表示"
      ],
      "metadata": {
        "id": "9rPPIawF_ZA9"
      }
    },
    {
      "cell_type": "code",
      "source": [
        "#@title ここで表示する\n",
        "Ichika,Saki,Honami,Shiho = ICHIKA(),SAKI(),HONAMI(),SHIHO()\n",
        "member = [Ichika,Saki,Honami,Shiho]\n",
        "for k in range(0,len(member)):\n",
        "  member[k].namebirthday()"
      ],
      "metadata": {
        "id": "jB5T6I_Gb_C8",
        "cellView": "form"
      },
      "execution_count": null,
      "outputs": []
    }
  ]
}
